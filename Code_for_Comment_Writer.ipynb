{
 "cells": [
  {
   "cell_type": "markdown",
   "metadata": {
    "collapsed": false
   },
   "source": [
    "### Comment Writing Engine\n",
    "\n",
    "#### an application to help teachers write better comments in less time\n",
    "\n"
   ]
  },
  {
   "cell_type": "code",
   "execution_count": 11,
   "metadata": {
    "collapsed": false
   },
   "outputs": [
    {
     "name": "stdout",
     "output_type": "stream",
     "text": [
      "This semester in PreCalculus With Proofs we covered many subjects, including proving theorems using critical thinking, using the mathematical laws of induction to solve problems, solving triangles using sin, cos, and tan, and applying already proved theorems to new problems. We had daily homework consisting of note-taking and worksheets, as well as assessments such as our unit 1 test.\n",
      "Jake, you did a great job in the class this semester! You showcased proficiency in many learning targets, including using the mathematical laws of induction to solve problems, and effectively showcased your grasp of the material. You demonstrated this understanding exceptionally on the assessments this unit, earning a(n) A on our most recent unit 3 test. Something you could improve moving forward would be applying already proved theorems to new problems, but you are doing proficiently overall.\n",
      "This class can be challenging to some, but you have handled it very well, Jake. You should be proud of your A in this class this semester, and I look forward to seeing you continue to thrive in this class during the rest of the year.\n",
      "\n",
      "This semester in AP Calculus BC we covered many subjects, including Evaluating derivatives and integrals, Evaluating derivatives and integrals, Finding derivative of a parametric function, and Finding derivative of a parametric function. We had daily homework consisting of note-taking and worksheets, as well as assessments such as our Exam 1.\n",
      "Sean, you did a great job in the class this semester! You showcased proficiency in many learning targets, including Evaluating derivatives and integrals, and effectively showcased your grasp of the material. You demonstrated this understanding exceptionally on the assessments this unit, earning a(n) A- on our most recent Exam5. Something you could improve moving forward would be Finding derivative of a parametric function, but you are doing proficiently overall.\n",
      "This class can be challenging to some, but you have handled it very well, Sean. You should be proud of your A in this class this semester, and I look forward to seeing you continue to thrive in this class during the rest of the year.\n",
      "\n",
      "This semester in US History 10 we covered many subjects, including The Civil War, Modern-Day USA, The Gilded Age, and The American Revolution. We had daily homework consisting of reading and taking notes and preparing projects, as well as assessments such as our Written Exam 1.\n",
      "Jon, this semester proved a bit challenging for you. You showcased proficiency in few of our learning targets, and many subjects need a bit of improvement, such as The Gilded Age. You were occassionally showcased your grasp of the material but you struggled on some of our assessments, getting a(n) B- on our most recent Exam 3. Some key subjects to work on include The Women's Suffrage Movement and The Gilded Age. Moving forward, I would reccommend that you meet with me often to make sure your understanding is strong, and perhaps working with peers on some of our homework assignments. You have room for improvement, but with hard work I believe you can turn this class around next semester!\n",
      "This class can be challenging, so it is alright to struggle early on, Jon. You earned a C in this class this semester, but I am confident that I will see your skills develop and improve throughout the rest of the year.\n",
      "\n",
      "This semester in Accelerated Chemistry we covered many subjects, including investigating nuclear decay, using stoichiometry to determine the amount of molecules in a substance, analysing intermolecular forces in molecules, and identifying the different types of reactions between compounds. We had daily homework consisting of pogil work and worksheets, as well as assessments such as our unit 1 test.\n",
      "Patty, you did a good job in the class this semester. You showcased proficiency in some of our learning targets, including using stoichiometry to determine the amount of molecules in a substance, and usually showcased your grasp of the material. You demonstrated this understanding well on the assessments this unit, earning a(n) B- on our most recent spinach lab. Something you could improve moving forward would be identifying the different types of reactions between compounds, but you are doing well overall. There there is always room for improvement, but you should be proud of your work this semester!\n",
      "This class can be challenging, but you were able to maintain a handle on it, Patty. You earned a B in this class this semester, and I am confident that I will see your skills continue to develop throughout the rest of the year.\n",
      "\n",
      "This semester in Differential equation we covered many subjects, including Defining and using Laplace transforms, solve systems of first order linear equations using differential operator, Laplace transform, and matrix methods including finding eigenvalues and eigenvectors and interpreting solutions of linear systems, Using Bernoulli methods, and Determing whether unique solutions exist. We had daily homework consisting of Notes and Exams, as well as assessments such as our Exam 1.\n",
      "Anay, you did a great job in the class this semester! You showcased proficiency in many learning targets, including solve systems of first order linear equations using differential operator, Laplace transform, and matrix methods including finding eigenvalues and eigenvectors and interpreting solutions of linear systems, and effectively showcased your grasp of the material. You demonstrated this understanding exceptionally on the assessments this unit, earning a(n) A on our most recent Exam 3. Something you could improve moving forward would be Determing whether unique solutions exist, but you are doing proficiently overall.\n",
      "This class can be challenging to some, but you have handled it very well, Anay. You should be proud of your A in this class this semester, and I look forward to seeing you continue to thrive in this class during the rest of the year.\n",
      "\n"
     ]
    }
   ],
   "source": [
    "# functions and code for reading data files, generating comments and writing them to files\n",
    "import csv \n",
    "\n",
    "with open(\"teachers.csv\") as csvfile:\n",
    "    info = csv.reader(csvfile)\n",
    "    header = next(info)\n",
    "    for line in info:\n",
    "        #creating variables using the file data\n",
    "        name = line[0].split()\n",
    "        coursename = line[1]\n",
    "        grade = line[2]\n",
    "        homework = [x.strip() for x in line[3].split(\"|\")]\n",
    "        assessments = [x.strip() for x in line[4].split(\"|\")]\n",
    "        testgrades = [x.strip() for x in line[5].split(\"|\")]\n",
    "        \n",
    "        assessmentdir = {}\n",
    "        for i in range(0, len(assessments)):\n",
    "            assessmentdir[assessments[i]] = testgrades[i]\n",
    "            \n",
    "        strongs = [x.strip() for x in line[6].split(\"|\")]\n",
    "        workingon = [x.strip() for x in line[7].split(\"|\")]\n",
    "        \n",
    "        #beginning writing the comment: Course description\n",
    "        with open(f\"{name}.txt\", \"w\") as f:\n",
    "            f.write(f\"This semester in {coursename} we covered many subjects, including {strongs[0]}, {strongs[-1]}, {workingon[0]}, and {workingon[-1]}. We had daily homework consisting of {homework[0]} and {homework[-1]}, as well as assessments such as our {assessments[0]}.\\n\")\n",
    "\n",
    "            #Writing a different comment based on grade:\n",
    "\n",
    "            #Comment for A students\n",
    "            if \"A\" in grade:\n",
    "                f.write(f\"{name[0]}, you did a great job in the class this semester! You showcased proficiency in many learning targets, including {strongs[-1]}, and effectively showcased your grasp of the material. You demonstrated this understanding exceptionally on the assessments this unit, earning a(n) {assessmentdir[assessments[-1]]} on our most recent {assessments[-1]}. Something you could improve moving forward would be {workingon[-1]}, but you are doing proficiently overall. \\nThis class can be challenging to some, but you have handled it very well, {name[0]}. You should be proud of your {grade} in this class this semester, and I look forward to seeing you continue to thrive in this class during the rest of the year.\\n\\n\")\n",
    "\n",
    "            #Comment for B students\n",
    "            elif \"B\" in grade:\n",
    "                f.write(f\"{name[0]}, you did a good job in the class this semester. You showcased proficiency in some of our learning targets, including {strongs[-1]}, and usually showcased your grasp of the material. You demonstrated this understanding well on the assessments this unit, earning a(n) {assessmentdir[assessments[-1]]} on our most recent {assessments[-1]}. Something you could improve moving forward would be {workingon[-1]}, but you are doing well overall. There there is always room for improvement, but you should be proud of your work this semester! \\nThis class can be challenging, but you were able to maintain a handle on it, {name[0]}. You earned a {grade} in this class this semester, and I am confident that I will see your skills continue to develop throughout the rest of the year.\\n\\n\")\n",
    "\n",
    "            #Comment for C students\n",
    "            elif \"C\" in grade or \"D\" in grade:\n",
    "                f.write(f\"{name[0]}, this semester proved a bit challenging for you. You showcased proficiency in few of our learning targets, and many subjects need a bit of improvement, such as {workingon[0]}. You were occassionally showcased your grasp of the material but you struggled on some of our assessments, getting a(n) {assessmentdir[assessments[-1]]} on our most recent {assessments[-1]}. Some key subjects to work on include {workingon[1]} and {workingon[0]}. Moving forward, I would reccommend that you meet with me often to make sure your understanding is strong, and perhaps working with peers on some of our homework assignments. You have room for improvement, but with hard work I believe you can turn this class around next semester! \\nThis class can be challenging, so it is alright to struggle early on, {name[0]}. You earned a {grade} in this class this semester, but I am confident that I will see your skills develop and improve throughout the rest of the year.\\n\\n\")\n",
    "\n",
    "        for line in open(f\"{name}.txt\"):\n",
    "            print(line.strip())\n",
    "\n"
   ]
  },
  {
   "cell_type": "code",
   "execution_count": 0,
   "metadata": {
    "collapsed": false
   },
   "outputs": [
   ],
   "source": [
   ]
  }
 ],
 "metadata": {
  "kernelspec": {
   "argv": [
    "/ext/jupyter/kernels/anaconda2022/launch.sh",
    "{connection_file}"
   ],
   "display_name": "Python 3 (Anaconda 2022)",
   "env": {
   },
   "language": "python",
   "metadata": {
    "cocalc": {
     "description": "Anaconda 2022.05 Python 3 environment",
     "priority": 5,
     "url": "https://www.anaconda.com/distribution/"
    }
   },
   "name": "anaconda2022",
   "resource_dir": "/ext/jupyter/kernels/anaconda2022"
  }
 },
 "nbformat": 4,
 "nbformat_minor": 4
}